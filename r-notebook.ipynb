{
 "cells": [
  {
   "cell_type": "code",
   "execution_count": 2,
   "id": "9be87ad7-5611-4b81-b74b-bdd464a0bdf7",
   "metadata": {},
   "outputs": [
    {
     "ename": "ERROR",
     "evalue": "Error in library(reshape): there is no package called ‘reshape’\n",
     "output_type": "error",
     "traceback": [
      "Error in library(reshape): there is no package called ‘reshape’\nTraceback:\n",
      "1. library(reshape)"
     ]
    }
   ],
   "source": [
    "# check that reshape is installed as dictated by renv\n",
    "library(reshape)"
   ]
  },
  {
   "cell_type": "code",
   "execution_count": 6,
   "id": "20860f49-459e-43e2-9ccc-1b7563900ecc",
   "metadata": {},
   "outputs": [
    {
     "name": "stdout",
     "output_type": "stream",
     "text": [
      "No issues found -- the project is in a consistent state.\n"
     ]
    }
   ],
   "source": [
    "# check renv status\n",
    "renv:::status()"
   ]
  },
  {
   "cell_type": "code",
   "execution_count": null,
   "id": "ecf01736-71b0-4731-b01c-ce3c9a6c48d0",
   "metadata": {},
   "outputs": [],
   "source": []
  }
 ],
 "metadata": {
  "kernelspec": {
   "display_name": "R",
   "language": "R",
   "name": "ir"
  },
  "language_info": {
   "codemirror_mode": "r",
   "file_extension": ".r",
   "mimetype": "text/x-r-source",
   "name": "R",
   "pygments_lexer": "r",
   "version": "4.3.1"
  }
 },
 "nbformat": 4,
 "nbformat_minor": 5
}
