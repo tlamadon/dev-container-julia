{
 "cells": [
  {
   "cell_type": "code",
   "execution_count": 1,
   "id": "ccaf2e23-d31b-436f-b84d-cab76d1d8d1e",
   "metadata": {},
   "outputs": [
    {
     "name": "stderr",
     "output_type": "stream",
     "text": [
      "\n",
      "Attaching package: ‘renv’\n",
      "\n",
      "\n",
      "The following objects are masked from ‘package:stats’:\n",
      "\n",
      "    embed, update\n",
      "\n",
      "\n",
      "The following objects are masked from ‘package:utils’:\n",
      "\n",
      "    history, upgrade\n",
      "\n",
      "\n",
      "The following objects are masked from ‘package:base’:\n",
      "\n",
      "    autoload, load, remove\n",
      "\n",
      "\n"
     ]
    }
   ],
   "source": [
    "library(renv)"
   ]
  },
  {
   "cell_type": "code",
   "execution_count": 2,
   "id": "1e98b321-00da-4d5e-a79a-36cb7bc62e6d",
   "metadata": {},
   "outputs": [
    {
     "name": "stdout",
     "output_type": "stream",
     "text": [
      "The following package(s) will be updated in the lockfile:\n",
      "\n",
      "# CRAN -----------------------------------------------------------------------\n",
      "- renv   [* -> 1.0.3]\n",
      "\n",
      "The version of R recorded in the lockfile will be updated:\n",
      "- R      [* -> 4.3.1]\n",
      "\n",
      "- Lockfile written to \"~/workspace/renv.lock\".\n"
     ]
    }
   ],
   "source": [
    "renv::init()"
   ]
  },
  {
   "cell_type": "code",
   "execution_count": 5,
   "id": "e2e51cf1-336d-44b2-9577-c6c23a7d33fc",
   "metadata": {},
   "outputs": [
    {
     "name": "stdout",
     "output_type": "stream",
     "text": [
      "# Downloading packages -------------------------------------------------------\n",
      "- Downloading reshape from CRAN ...             OK [40.9 Kb in 0.84s]\n",
      "- Downloading plyr from CRAN ...                OK [392.1 Kb in 0.89s]\n",
      "- Downloading Rcpp from CRAN ...                OK [2.9 Mb in 1.3s]\n",
      "Successfully downloaded 3 packages in 5.2 seconds.\n",
      "\n",
      "The following package(s) will be installed:\n",
      "- plyr    [1.8.9]\n",
      "- Rcpp    [1.0.11]\n",
      "- reshape [0.8.9]\n",
      "These packages will be installed into \"~/workspace/renv/library/R-4.3/aarch64-conda-linux-gnu\".\n",
      "\n",
      "# Installing packages --------------------------------------------------------\n",
      "- Installing Rcpp ...                           OK [built from source and cached in 22s]\n",
      "- Installing plyr ...                           OK [built from source and cached in 7.7s]\n",
      "- Installing reshape ...                        OK [built from source and cached in 1.6s]\n",
      "Successfully installed 3 packages in 33 seconds.\n"
     ]
    }
   ],
   "source": [
    "renv::install(\"reshape\")\n"
   ]
  },
  {
   "cell_type": "code",
   "execution_count": 7,
   "id": "5a7769b2-86b2-4b85-881d-330a753c16a5",
   "metadata": {},
   "outputs": [
    {
     "name": "stdout",
     "output_type": "stream",
     "text": [
      "The following package(s) are missing:\n",
      "\n",
      " package  installed recorded used\n",
      " IRkernel n         n        y   \n",
      "\n",
      "See ?renv::status() for advice on resolving these issues.\n"
     ]
    }
   ],
   "source": [
    "renv::status()\n"
   ]
  },
  {
   "cell_type": "code",
   "execution_count": 10,
   "id": "4cff6f60-213e-4d4b-9b75-175f0c6e3cd3",
   "metadata": {},
   "outputs": [
    {
     "name": "stdout",
     "output_type": "stream",
     "text": [
      "The following package(s) will be updated in the lockfile:\n",
      "\n",
      "# CRAN -----------------------------------------------------------------------\n",
      "- base64enc   [* -> 0.1-3]\n",
      "- cli         [* -> 3.6.1]\n",
      "- crayon      [* -> 1.5.2]\n",
      "- digest      [* -> 0.6.33]\n",
      "- ellipsis    [* -> 0.3.2]\n",
      "- evaluate    [* -> 0.22]\n",
      "- fansi       [* -> 1.0.5]\n",
      "- fastmap     [* -> 1.1.1]\n",
      "- glue        [* -> 1.6.2]\n",
      "- htmltools   [* -> 0.5.6.1]\n",
      "- IRdisplay   [* -> 1.1]\n",
      "- IRkernel    [* -> 1.3.2]\n",
      "- jsonlite    [* -> 1.8.7]\n",
      "- lifecycle   [* -> 1.0.3]\n",
      "- pbdZMQ      [* -> 0.3-10]\n",
      "- pillar      [* -> 1.9.0]\n",
      "- repr        [* -> 1.1.6]\n",
      "- rlang       [* -> 1.1.1]\n",
      "- utf8        [* -> 1.2.3]\n",
      "- uuid        [* -> 1.1-1]\n",
      "- vctrs       [* -> 0.6.3]\n",
      "\n",
      "- Lockfile written to \"~/workspace/renv.lock\".\n"
     ]
    }
   ],
   "source": [
    "renv::snapshot()"
   ]
  },
  {
   "cell_type": "code",
   "execution_count": 9,
   "id": "51033590-6af3-4cfc-b8f7-6ecb34a81564",
   "metadata": {},
   "outputs": [
    {
     "name": "stdout",
     "output_type": "stream",
     "text": [
      "# Downloading packages -------------------------------------------------------\n",
      "- Downloading IRkernel from CRAN ...            OK [44.1 Kb in 0.77s]\n",
      "- Downloading repr from CRAN ...                OK [31.4 Kb in 0.64s]\n",
      "- Downloading htmltools from CRAN ...           OK [130.5 Kb in 0.75s]\n",
      "- Downloading digest from CRAN ...              OK [173.6 Kb in 0.75s]\n",
      "- Downloading base64enc from CRAN ...           OK [7.6 Kb in 0.4s]\n",
      "- Downloading rlang from CRAN ...               OK [744.7 Kb in 1.0s]\n",
      "- Downloading fastmap from CRAN ...             OK [45.3 Kb in 0.64s]\n",
      "- Downloading ellipsis from CRAN ...            OK [7.9 Kb in 0.4s]\n",
      "- Downloading jsonlite from CRAN ...            OK [1 Mb in 1.2s]\n",
      "- Downloading pillar from CRAN ...              OK [434.1 Kb in 1.0s]\n",
      "- Downloading cli from CRAN ...                 OK [554 Kb in 1.0s]\n",
      "- Downloading fansi from CRAN ...               OK [471.1 Kb in 1.0s]\n",
      "- Downloading glue from CRAN ...                OK [104 Kb in 0.77s]\n",
      "- Downloading lifecycle from CRAN ...           OK [104.3 Kb in 0.76s]\n",
      "- Downloading utf8 from CRAN ...                OK [235.8 Kb in 0.89s]\n",
      "- Downloading vctrs from CRAN ...               OK [944.7 Kb in 1.1s]\n",
      "- Downloading evaluate from CRAN ...            OK [34.8 Kb in 0.52s]\n",
      "- Downloading IRdisplay from CRAN ...           OK [8.1 Kb in 0.39s]\n",
      "- Downloading pbdZMQ from CRAN ...              OK [1.2 Mb in 1.2s]\n",
      "- Downloading crayon from CRAN ...              OK [39.6 Kb in 0.63s]\n",
      "- Downloading uuid from CRAN ...                OK [77.2 Kb in 0.64s]\n",
      "Successfully downloaded 21 packages in 20 seconds.\n",
      "\n",
      "The following package(s) will be installed:\n",
      "- base64enc [0.1-3]\n",
      "- cli       [3.6.1]\n",
      "- crayon    [1.5.2]\n",
      "- digest    [0.6.33]\n",
      "- ellipsis  [0.3.2]\n",
      "- evaluate  [0.22]\n",
      "- fansi     [1.0.5]\n",
      "- fastmap   [1.1.1]\n",
      "- glue      [1.6.2]\n",
      "- htmltools [0.5.6.1]\n",
      "- IRdisplay [1.1]\n",
      "- IRkernel  [1.3.2]\n",
      "- jsonlite  [1.8.7]\n",
      "- lifecycle [1.0.3]\n",
      "- pbdZMQ    [0.3-10]\n",
      "- pillar    [1.9.0]\n",
      "- repr      [1.1.6]\n",
      "- rlang     [1.1.1]\n",
      "- utf8      [1.2.3]\n",
      "- uuid      [1.1-1]\n",
      "- vctrs     [0.6.3]\n",
      "These packages will be installed into \"~/workspace/renv/library/R-4.3/aarch64-conda-linux-gnu\".\n",
      "\n",
      "# Installing packages --------------------------------------------------------\n",
      "- Installing digest ...                         OK [built from source and cached in 4.2s]\n",
      "- Installing base64enc ...                      OK [built from source and cached in 1.2s]\n",
      "- Installing rlang ...                          OK [built from source and cached in 9.6s]\n",
      "- Installing fastmap ...                        OK [built from source and cached in 2.7s]\n",
      "- Installing ellipsis ...                       OK [built from source and cached in 1.4s]\n",
      "- Installing htmltools ...                      OK [built from source and cached in 2.8s]\n",
      "- Installing jsonlite ...                       OK [built from source and cached in 3.4s]\n",
      "- Installing cli ...                            OK [built from source and cached in 7.8s]\n",
      "- Installing fansi ...                          OK [built from source and cached in 3.5s]\n",
      "- Installing glue ...                           OK [built from source and cached in 1.6s]\n",
      "- Installing lifecycle ...                      OK [built from source and cached in 1.7s]\n",
      "- Installing utf8 ...                           OK [built from source and cached in 3.4s]\n",
      "- Installing vctrs ...                          OK [built from source and cached in 15s]\n",
      "- Installing pillar ...                         OK [built from source and cached in 4.0s]\n",
      "- Installing repr ...                           OK [built from source and cached in 2.4s]\n",
      "- Installing evaluate ...                       OK [built from source and cached in 1.2s]\n",
      "- Installing IRdisplay ...                      OK [built from source and cached in 1.7s]\n",
      "- Installing pbdZMQ ...                         OK [built from source and cached in 38s]\n",
      "- Installing crayon ...                         OK [built from source and cached in 2.4s]\n",
      "- Installing uuid ...                           OK [built from source and cached in 4.9s]\n",
      "- Installing IRkernel ...                       OK [built from source and cached in 2.7s]\n",
      "Successfully installed 21 packages in 2 minutes.\n"
     ]
    }
   ],
   "source": [
    "renv::install(\"IRkernel\")\n"
   ]
  },
  {
   "cell_type": "code",
   "execution_count": null,
   "id": "365868a3-e2da-4daf-b7c4-74c28b4e96a3",
   "metadata": {},
   "outputs": [],
   "source": []
  }
 ],
 "metadata": {
  "kernelspec": {
   "display_name": "R",
   "language": "R",
   "name": "ir"
  },
  "language_info": {
   "codemirror_mode": "r",
   "file_extension": ".r",
   "mimetype": "text/x-r-source",
   "name": "R",
   "pygments_lexer": "r",
   "version": "4.3.1"
  }
 },
 "nbformat": 4,
 "nbformat_minor": 5
}
